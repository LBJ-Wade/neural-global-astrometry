{
 "cells": [
  {
   "cell_type": "code",
   "execution_count": 2,
   "metadata": {},
   "outputs": [],
   "source": [
    "import sys\n",
    "sys.path.append(\"../\")\n",
    "\n",
    "import matplotlib.pyplot as plt\n",
    "import matplotlib.pylab as pylab\n",
    "from pylab import cm as cmaps\n",
    "import healpy as hp\n",
    "from tqdm.notebook import tqdm\n",
    "import torch\n",
    "import torch.nn as nn\n",
    "\n",
    "from scipy.stats import chi2\n",
    "from scipy.stats import norm\n",
    "\n",
    "from plot_params import params\n",
    "from simulation.astrometry_sim import QuasarSim\n",
    "from theory.units import *\n",
    "from theory.limit import get_lim\n",
    "\n",
    "from IPython.display import set_matplotlib_formats\n",
    "set_matplotlib_formats('retina')\n",
    "\n",
    "%matplotlib inline\n",
    "%load_ext autoreload\n",
    "%autoreload 2"
   ]
  },
  {
   "cell_type": "code",
   "execution_count": 3,
   "metadata": {},
   "outputs": [
    {
     "name": "stderr",
     "output_type": "stream",
     "text": [
      "/Users/smsharma/anaconda3/envs/sbi-fermi/lib/python3.6/_collections_abc.py:841: MatplotlibDeprecationWarning: \n",
      "The animation.avconv_args rcparam was deprecated in Matplotlib 3.3 and will be removed two minor releases later.\n",
      "  self[key] = other[key]\n",
      "/Users/smsharma/anaconda3/envs/sbi-fermi/lib/python3.6/_collections_abc.py:841: MatplotlibDeprecationWarning: \n",
      "The animation.avconv_path rcparam was deprecated in Matplotlib 3.3 and will be removed two minor releases later.\n",
      "  self[key] = other[key]\n",
      "/Users/smsharma/anaconda3/envs/sbi-fermi/lib/python3.6/_collections_abc.py:841: MatplotlibDeprecationWarning: \n",
      "The animation.html_args rcparam was deprecated in Matplotlib 3.3 and will be removed two minor releases later.\n",
      "  self[key] = other[key]\n",
      "/Users/smsharma/anaconda3/envs/sbi-fermi/lib/python3.6/_collections_abc.py:841: MatplotlibDeprecationWarning: \n",
      "The keymap.all_axes rcparam was deprecated in Matplotlib 3.3 and will be removed two minor releases later.\n",
      "  self[key] = other[key]\n",
      "/Users/smsharma/anaconda3/envs/sbi-fermi/lib/python3.6/_collections_abc.py:841: MatplotlibDeprecationWarning: \n",
      "The mathtext.fallback_to_cm rcparam was deprecated in Matplotlib 3.3 and will be removed two minor releases later.\n",
      "  self[key] = other[key]\n",
      "/Users/smsharma/anaconda3/envs/sbi-fermi/lib/python3.6/_collections_abc.py:841: MatplotlibDeprecationWarning: Support for setting the 'mathtext.fallback_to_cm' rcParam is deprecated since 3.3 and will be removed two minor releases later; use 'mathtext.fallback : 'cm' instead.\n",
      "  self[key] = other[key]\n",
      "/Users/smsharma/anaconda3/envs/sbi-fermi/lib/python3.6/_collections_abc.py:841: MatplotlibDeprecationWarning: \n",
      "The validate_bool_maybe_none function was deprecated in Matplotlib 3.3 and will be removed two minor releases later.\n",
      "  self[key] = other[key]\n",
      "/Users/smsharma/anaconda3/envs/sbi-fermi/lib/python3.6/_collections_abc.py:841: MatplotlibDeprecationWarning: Support for setting the 'text.latex.preamble' or 'pgf.preamble' rcParam to a list of strings is deprecated since 3.3 and will be removed two minor releases later; set it to a single string instead.\n",
      "  self[key] = other[key]\n",
      "/Users/smsharma/anaconda3/envs/sbi-fermi/lib/python3.6/_collections_abc.py:841: MatplotlibDeprecationWarning: \n",
      "The savefig.jpeg_quality rcparam was deprecated in Matplotlib 3.3 and will be removed two minor releases later.\n",
      "  self[key] = other[key]\n",
      "/Users/smsharma/anaconda3/envs/sbi-fermi/lib/python3.6/_collections_abc.py:841: MatplotlibDeprecationWarning: \n",
      "The text.latex.preview rcparam was deprecated in Matplotlib 3.3 and will be removed two minor releases later.\n",
      "  self[key] = other[key]\n"
     ]
    }
   ],
   "source": [
    "from plot_params import params\n",
    "import matplotlib.pylab as pylab\n",
    "\n",
    "pylab.rcParams.update(params)\n",
    "cols_default = plt.rcParams['axes.prop_cycle'].by_key()['color']\n",
    "\n",
    "alpha_plot = 1.\n",
    "lw_plot = 2.5"
   ]
  },
  {
   "cell_type": "markdown",
   "metadata": {},
   "source": [
    "\n",
    "## Basline analysis"
   ]
  },
  {
   "cell_type": "code",
   "execution_count": 10,
   "metadata": {},
   "outputs": [],
   "source": [
    "# from sbi.neural_nets.flow import build_made\n",
    "from sbi.neural_nets.classifier import build_mlp_mixed_classifier\n",
    "import mlflow\n",
    "\n",
    "run_id = '1936d60ac8f945b4b6873c96a4946f32'\n",
    "    \n",
    "data_dir = '/scratch/sm8383/sbi-fermi/data/'\n",
    "model_uri = \"runs:/{}/density_estimator\".format(run_id)\n",
    "density_estimator = mlflow.pytorch.load_model('/Users/smsharma/PycharmProjects/sbi-astrometry/data/logs/mlruns/0/' + run_id + '/artifacts/density_estimator')"
   ]
  },
  {
   "cell_type": "code",
   "execution_count": 11,
   "metadata": {},
   "outputs": [],
   "source": [
    "Sigma_q = 1e8 / (4 * np.pi)\n",
    "pixarea = hp.nside2pixarea(nside=64, degrees=False)\n",
    "N_q_pix = Sigma_q * pixarea"
   ]
  },
  {
   "cell_type": "code",
   "execution_count": 12,
   "metadata": {},
   "outputs": [],
   "source": [
    "max_sep = 25\n",
    "nside = 64\n",
    "lmax = 3 * nside - 1\n",
    "\n",
    "sim = QuasarSim(max_sep=max_sep, \n",
    "                verbose=True,\n",
    "                sim_uniform=True, \n",
    "                nside=nside, \n",
    "                calc_powerspecs=False, \n",
    "                do_alpha=False,\n",
    "                sh_profile='NFW')"
   ]
  },
  {
   "cell_type": "code",
   "execution_count": 13,
   "metadata": {},
   "outputs": [],
   "source": [
    "list(density_estimator.children())[0].add_noise.sigma = 0."
   ]
  },
  {
   "cell_type": "code",
   "execution_count": 14,
   "metadata": {},
   "outputs": [],
   "source": [
    "class GaussianNoise(nn.Module):\n",
    "    \"\"\"Gaussian noise regularizer.\n",
    "\n",
    "    Args:\n",
    "        sigma (float, optional): relative standard deviation used to generate the\n",
    "            noise. Relative means that it will be multiplied by the magnitude of\n",
    "            the value your are adding the noise to. This means that sigma can be\n",
    "            the same regardless of the scale of the vector.\n",
    "    \"\"\"\n",
    "    def __init__(self, sigma=0.):\n",
    "        super().__init__()\n",
    "        self.sigma = sigma\n",
    "        self.register_buffer('noise', torch.tensor(0))\n",
    "\n",
    "    def forward(self, x):\n",
    "        if self.sigma != 0.:\n",
    "            sampled_noise = self.noise.expand(*x.size()).detach().float().normal_() * self.sigma\n",
    "            x = x + sampled_noise\n",
    "        return x "
   ]
  },
  {
   "cell_type": "code",
   "execution_count": 15,
   "metadata": {},
   "outputs": [
    {
     "data": {
      "application/vnd.jupyter.widget-view+json": {
       "model_id": "0f244f9817974131a50c220b5db6f734",
       "version_major": 2,
       "version_minor": 0
      },
      "text/plain": [
       "  0%|          | 0/100 [00:00<?, ?it/s]"
      ]
     },
     "metadata": {},
     "output_type": "display_data"
    },
    {
     "name": "stdout",
     "output_type": "stream",
     "text": [
      "Simulating 1227 subhalos between 7.0 and 10.0\n"
     ]
    },
    {
     "name": "stderr",
     "output_type": "stream",
     "text": [
      "WARNING: AstropyDeprecationWarning: In v4.1 and later versions, the Galactocentric frame will adopt default parameters that may update with time. An updated default parameter set is already available through the astropy.coordinates.galactocentric_frame_defaults ScienceState object, as described in but the default is currently still set to the pre-v4.0 parameter defaults. The safest way to guard against changing default parameters in the future is to either (1) specify all Galactocentric frame attributes explicitly when using the frame, or (2) set the galactocentric_frame_defaults parameter set name explicitly. See http://docs.astropy.org/en/latest/coordinates/galactocentric.html for more information. [astropy.coordinates.builtin_frames.galactocentric]\n"
     ]
    },
    {
     "name": "stdout",
     "output_type": "stream",
     "text": [
      "Simulating 1195 subhalos between 7.0 and 10.0\n",
      "Simulating 1182 subhalos between 7.0 and 10.0\n",
      "Simulating 1273 subhalos between 7.0 and 10.0\n",
      "Simulating 1265 subhalos between 7.0 and 10.0\n",
      "Simulating 1208 subhalos between 7.0 and 10.0\n",
      "Simulating 1208 subhalos between 7.0 and 10.0\n",
      "Simulating 1200 subhalos between 7.0 and 10.0\n",
      "Simulating 1237 subhalos between 7.0 and 10.0\n",
      "Simulating 1122 subhalos between 7.0 and 10.0\n",
      "Simulating 1195 subhalos between 7.0 and 10.0\n",
      "Simulating 1191 subhalos between 7.0 and 10.0\n",
      "Simulating 1194 subhalos between 7.0 and 10.0\n",
      "Simulating 1246 subhalos between 7.0 and 10.0\n",
      "Simulating 1287 subhalos between 7.0 and 10.0\n",
      "Simulating 1163 subhalos between 7.0 and 10.0\n",
      "Simulating 1216 subhalos between 7.0 and 10.0\n",
      "Simulating 1177 subhalos between 7.0 and 10.0\n",
      "Simulating 1231 subhalos between 7.0 and 10.0\n",
      "Simulating 1268 subhalos between 7.0 and 10.0\n",
      "Simulating 1229 subhalos between 7.0 and 10.0\n",
      "Simulating 1165 subhalos between 7.0 and 10.0\n",
      "Simulating 1208 subhalos between 7.0 and 10.0\n",
      "Simulating 1205 subhalos between 7.0 and 10.0\n",
      "Simulating 1200 subhalos between 7.0 and 10.0\n",
      "Simulating 1198 subhalos between 7.0 and 10.0\n",
      "Simulating 1184 subhalos between 7.0 and 10.0\n",
      "Simulating 1263 subhalos between 7.0 and 10.0\n",
      "Simulating 1148 subhalos between 7.0 and 10.0\n",
      "Simulating 1119 subhalos between 7.0 and 10.0\n",
      "Simulating 1246 subhalos between 7.0 and 10.0\n",
      "Simulating 1214 subhalos between 7.0 and 10.0\n",
      "Simulating 1127 subhalos between 7.0 and 10.0\n",
      "Simulating 1240 subhalos between 7.0 and 10.0\n",
      "Simulating 1192 subhalos between 7.0 and 10.0\n",
      "Simulating 1147 subhalos between 7.0 and 10.0\n",
      "Simulating 1180 subhalos between 7.0 and 10.0\n",
      "Simulating 1267 subhalos between 7.0 and 10.0\n",
      "Simulating 1296 subhalos between 7.0 and 10.0\n",
      "Simulating 1189 subhalos between 7.0 and 10.0\n",
      "Simulating 1235 subhalos between 7.0 and 10.0\n",
      "Simulating 1208 subhalos between 7.0 and 10.0\n",
      "Simulating 1220 subhalos between 7.0 and 10.0\n",
      "Simulating 1164 subhalos between 7.0 and 10.0\n",
      "Simulating 1155 subhalos between 7.0 and 10.0\n",
      "Simulating 1180 subhalos between 7.0 and 10.0\n",
      "Simulating 1135 subhalos between 7.0 and 10.0\n",
      "Simulating 1209 subhalos between 7.0 and 10.0\n",
      "Simulating 1262 subhalos between 7.0 and 10.0\n",
      "Simulating 1150 subhalos between 7.0 and 10.0\n",
      "Simulating 1241 subhalos between 7.0 and 10.0\n",
      "Simulating 1164 subhalos between 7.0 and 10.0\n",
      "Simulating 1208 subhalos between 7.0 and 10.0\n",
      "Simulating 1194 subhalos between 7.0 and 10.0\n",
      "Simulating 1171 subhalos between 7.0 and 10.0\n",
      "Simulating 1193 subhalos between 7.0 and 10.0\n",
      "Simulating 1222 subhalos between 7.0 and 10.0\n",
      "Simulating 1224 subhalos between 7.0 and 10.0\n",
      "Simulating 1195 subhalos between 7.0 and 10.0\n",
      "Simulating 1204 subhalos between 7.0 and 10.0\n",
      "Simulating 1187 subhalos between 7.0 and 10.0\n",
      "Simulating 1211 subhalos between 7.0 and 10.0\n",
      "Simulating 1251 subhalos between 7.0 and 10.0\n",
      "Simulating 1267 subhalos between 7.0 and 10.0\n",
      "Simulating 1183 subhalos between 7.0 and 10.0\n",
      "Simulating 1191 subhalos between 7.0 and 10.0\n",
      "Simulating 1220 subhalos between 7.0 and 10.0\n",
      "Simulating 1237 subhalos between 7.0 and 10.0\n",
      "Simulating 1237 subhalos between 7.0 and 10.0\n",
      "Simulating 1240 subhalos between 7.0 and 10.0\n",
      "Simulating 1183 subhalos between 7.0 and 10.0\n",
      "Simulating 1216 subhalos between 7.0 and 10.0\n",
      "Simulating 1231 subhalos between 7.0 and 10.0\n",
      "Simulating 1160 subhalos between 7.0 and 10.0\n",
      "Simulating 1230 subhalos between 7.0 and 10.0\n",
      "Simulating 1188 subhalos between 7.0 and 10.0\n",
      "Simulating 1209 subhalos between 7.0 and 10.0\n",
      "Simulating 1193 subhalos between 7.0 and 10.0\n",
      "Simulating 1255 subhalos between 7.0 and 10.0\n",
      "Simulating 1243 subhalos between 7.0 and 10.0\n",
      "Simulating 1148 subhalos between 7.0 and 10.0\n",
      "Simulating 1207 subhalos between 7.0 and 10.0\n",
      "Simulating 1212 subhalos between 7.0 and 10.0\n",
      "Simulating 1239 subhalos between 7.0 and 10.0\n",
      "Simulating 1227 subhalos between 7.0 and 10.0\n",
      "Simulating 1136 subhalos between 7.0 and 10.0\n",
      "Simulating 1234 subhalos between 7.0 and 10.0\n",
      "Simulating 1145 subhalos between 7.0 and 10.0\n",
      "Simulating 1194 subhalos between 7.0 and 10.0\n",
      "Simulating 1257 subhalos between 7.0 and 10.0\n",
      "Simulating 1226 subhalos between 7.0 and 10.0\n",
      "Simulating 1243 subhalos between 7.0 and 10.0\n",
      "Simulating 1194 subhalos between 7.0 and 10.0\n",
      "Simulating 1218 subhalos between 7.0 and 10.0\n",
      "Simulating 1232 subhalos between 7.0 and 10.0\n",
      "Simulating 1202 subhalos between 7.0 and 10.0\n",
      "Simulating 1273 subhalos between 7.0 and 10.0\n",
      "Simulating 1239 subhalos between 7.0 and 10.0\n",
      "Simulating 1215 subhalos between 7.0 and 10.0\n",
      "Simulating 1146 subhalos between 7.0 and 10.0\n"
     ]
    }
   ],
   "source": [
    "n_trials = 100  # Number of samples to simulate\n",
    "n_test = 30  # Number of points in f_sub over which to compute likelihood ratio\n",
    "\n",
    "out = np.zeros((n_trials, n_test))\n",
    "\n",
    "for i_trial in tqdm(range(n_trials)):\n",
    "    \n",
    "    # Simulate subhalos and make astrometric map\n",
    "    sim.set_mass_distribution(sim.rho_M_SI, M_min=1e7 * M_s, M_max=1e10 * M_s, M_min_calib=1e8 * M_s, M_max_calib=1.1e10 * M_s, N_calib=150., alpha=-1.9)\n",
    "    sim.set_radial_distribution(sim.r2rho_V_ein_EAQ, R_min=1e-3 * kpc, R_max=260 * kpc)\n",
    "    sim.set_subhalo_properties(sim.c200_SCP, distdep=False)\n",
    "    \n",
    "    sim.analysis_pipeline(get_sample=True)\n",
    "    sim.mu_qsrs = 1e6 * hp.reorder(sim.mu_qsrs.T, r2n=True).T\n",
    "    \n",
    "    x_test = torch.Tensor(sim.mu_qsrs)\n",
    "    \n",
    "    # Add noise\n",
    "    gn = GaussianNoise(sigma=0.0023)\n",
    "    x_test = gn(x_test).T\n",
    "    \n",
    "    theta_test = torch.linspace(1., 300., n_test).unsqueeze(1)\n",
    "\n",
    "    # Compute LLR over the parameter grid\n",
    "    out[i_trial, :] = [density_estimator(x_test.unsqueeze(0), theta_test[i].unsqueeze(0)).squeeze().detach().numpy() \\\n",
    "           for i in (range(n_test))]"
   ]
  },
  {
   "cell_type": "code",
   "execution_count": null,
   "metadata": {},
   "outputs": [],
   "source": [
    "# s = 1 / (1 + np.exp(-out))  # Sigmoid projection\n",
    "# out_mean = np.mean(np.log(s / (1 - s)), axis=0)"
   ]
  },
  {
   "cell_type": "code",
   "execution_count": 16,
   "metadata": {},
   "outputs": [],
   "source": [
    "out_mean = np.mean(out, axis=0)"
   ]
  },
  {
   "cell_type": "code",
   "execution_count": 102,
   "metadata": {},
   "outputs": [
    {
     "data": {
      "text/plain": [
       "array([-2.94414675, -2.487873  , -2.05343777, -1.63955597, -1.25567784,\n",
       "       -0.90872966, -0.6046571 , -0.34277256, -0.11850638,  0.06791678,\n",
       "        0.2230499 ,  0.3462319 ,  0.43393137,  0.481338  ,  0.49853136,\n",
       "        0.5019778 ,  0.47577225,  0.41847568,  0.33321665,  0.21900476,\n",
       "        0.0810652 , -0.08247891, -0.27132437, -0.48420727, -0.72035422,\n",
       "       -0.98269118, -1.27120722, -1.57788548, -1.8973031 , -2.23001369])"
      ]
     },
     "execution_count": 102,
     "metadata": {},
     "output_type": "execute_result"
    }
   ],
   "source": [
    "out_mean"
   ]
  },
  {
   "cell_type": "markdown",
   "metadata": {},
   "source": [
    "### Compute power spectra"
   ]
  },
  {
   "cell_type": "code",
   "execution_count": 17,
   "metadata": {},
   "outputs": [],
   "source": [
    "from theory.units import *\n",
    "from theory.spec_calc import PowerSpectra, PowerSpectraPopulations\n",
    "from theory.astrometry_forecast import Parameter, AstrometryObservation, FisherForecast"
   ]
  },
  {
   "cell_type": "code",
   "execution_count": 18,
   "metadata": {},
   "outputs": [],
   "source": [
    "# Precompute some number for NFW and Burkert\n",
    "pspec = PowerSpectra(precompute=['NFW', 'Burk'])"
   ]
  },
  {
   "cell_type": "code",
   "execution_count": 19,
   "metadata": {},
   "outputs": [
    {
     "data": {
      "application/vnd.jupyter.widget-view+json": {
       "model_id": "3383d2c7f77f433ba73d577c2486c1b3",
       "version_major": 2,
       "version_minor": 0
      },
      "text/plain": [
       "  0%|          | 0/50 [00:00<?, ?it/s]"
      ]
     },
     "metadata": {},
     "output_type": "display_data"
    }
   ],
   "source": [
    "# Calculate spectra for fiducial CDM\n",
    "\n",
    "pspecpop = PowerSpectraPopulations(l_max=2000)\n",
    "\n",
    "pspecpop.set_radial_distribution(pspecpop.r2rho_V_ein_EAQ, R_min=1e-3*kpc, R_max=260*kpc)\n",
    "pspecpop.set_mass_distribution(pspecpop.rho_M_SI, M_min=1e7*M_s, M_max=1e10*M_s, \n",
    "                               M_min_calib=1e8*M_s, M_max_calib=1.1e10*M_s, N_calib=150, alpha=-1.9)\n",
    "pspecpop.set_subhalo_properties(pspecpop.c200_SCP)\n",
    "\n",
    "C_l_mu = pspecpop.get_C_l_total_ary();"
   ]
  },
  {
   "cell_type": "markdown",
   "metadata": {},
   "source": [
    "### Compute variation in sensitivity with different noise levels"
   ]
  },
  {
   "cell_type": "code",
   "execution_count": 20,
   "metadata": {},
   "outputs": [
    {
     "data": {
      "application/vnd.jupyter.widget-view+json": {
       "model_id": "305ccdec251a49aabb08efd1ae469cc9",
       "version_major": 2,
       "version_minor": 0
      },
      "text/plain": [
       "  0%|          | 0/50 [00:00<?, ?it/s]"
      ]
     },
     "metadata": {},
     "output_type": "display_data"
    },
    {
     "name": "stdout",
     "output_type": "stream",
     "text": [
      "Simulating 1173 subhalos between 7.0 and 10.0\n"
     ]
    },
    {
     "name": "stderr",
     "output_type": "stream",
     "text": [
      "WARNING: AstropyDeprecationWarning: In v4.1 and later versions, the Galactocentric frame will adopt default parameters that may update with time. An updated default parameter set is already available through the astropy.coordinates.galactocentric_frame_defaults ScienceState object, as described in but the default is currently still set to the pre-v4.0 parameter defaults. The safest way to guard against changing default parameters in the future is to either (1) specify all Galactocentric frame attributes explicitly when using the frame, or (2) set the galactocentric_frame_defaults parameter set name explicitly. See http://docs.astropy.org/en/latest/coordinates/galactocentric.html for more information. [astropy.coordinates.builtin_frames.galactocentric]\n"
     ]
    },
    {
     "name": "stdout",
     "output_type": "stream",
     "text": [
      "Simulating 1167 subhalos between 7.0 and 10.0\n",
      "Simulating 1171 subhalos between 7.0 and 10.0\n",
      "Simulating 1207 subhalos between 7.0 and 10.0\n",
      "Simulating 1222 subhalos between 7.0 and 10.0\n",
      "Simulating 1265 subhalos between 7.0 and 10.0\n",
      "Simulating 1234 subhalos between 7.0 and 10.0\n",
      "Simulating 1223 subhalos between 7.0 and 10.0\n",
      "Simulating 1192 subhalos between 7.0 and 10.0\n",
      "Simulating 1257 subhalos between 7.0 and 10.0\n",
      "Simulating 1196 subhalos between 7.0 and 10.0\n",
      "Simulating 1185 subhalos between 7.0 and 10.0\n",
      "Simulating 1182 subhalos between 7.0 and 10.0\n",
      "Simulating 1211 subhalos between 7.0 and 10.0\n",
      "Simulating 1262 subhalos between 7.0 and 10.0\n",
      "Simulating 1169 subhalos between 7.0 and 10.0\n",
      "Simulating 1181 subhalos between 7.0 and 10.0\n",
      "Simulating 1197 subhalos between 7.0 and 10.0\n",
      "Simulating 1218 subhalos between 7.0 and 10.0\n",
      "Simulating 1179 subhalos between 7.0 and 10.0\n",
      "Simulating 1227 subhalos between 7.0 and 10.0\n",
      "Simulating 1210 subhalos between 7.0 and 10.0\n",
      "Simulating 1225 subhalos between 7.0 and 10.0\n",
      "Simulating 1239 subhalos between 7.0 and 10.0\n",
      "Simulating 1152 subhalos between 7.0 and 10.0\n",
      "Simulating 1227 subhalos between 7.0 and 10.0\n",
      "Simulating 1220 subhalos between 7.0 and 10.0\n",
      "Simulating 1216 subhalos between 7.0 and 10.0\n",
      "Simulating 1206 subhalos between 7.0 and 10.0\n",
      "Simulating 1226 subhalos between 7.0 and 10.0\n",
      "Simulating 1188 subhalos between 7.0 and 10.0\n",
      "Simulating 1193 subhalos between 7.0 and 10.0\n",
      "Simulating 1244 subhalos between 7.0 and 10.0\n",
      "Simulating 1260 subhalos between 7.0 and 10.0\n",
      "Simulating 1251 subhalos between 7.0 and 10.0\n",
      "Simulating 1203 subhalos between 7.0 and 10.0\n",
      "Simulating 1207 subhalos between 7.0 and 10.0\n",
      "Simulating 1191 subhalos between 7.0 and 10.0\n",
      "Simulating 1255 subhalos between 7.0 and 10.0\n",
      "Simulating 1157 subhalos between 7.0 and 10.0\n",
      "Simulating 1276 subhalos between 7.0 and 10.0\n",
      "Simulating 1221 subhalos between 7.0 and 10.0\n",
      "Simulating 1257 subhalos between 7.0 and 10.0\n",
      "Simulating 1197 subhalos between 7.0 and 10.0\n",
      "Simulating 1185 subhalos between 7.0 and 10.0\n",
      "Simulating 1181 subhalos between 7.0 and 10.0\n",
      "Simulating 1250 subhalos between 7.0 and 10.0\n",
      "Simulating 1236 subhalos between 7.0 and 10.0\n",
      "Simulating 1201 subhalos between 7.0 and 10.0\n",
      "Simulating 1227 subhalos between 7.0 and 10.0\n"
     ]
    },
    {
     "data": {
      "application/vnd.jupyter.widget-view+json": {
       "model_id": "0e78ed2cb83045f195bd18063f2e2137",
       "version_major": 2,
       "version_minor": 0
      },
      "text/plain": [
       "  0%|          | 0/50 [00:00<?, ?it/s]"
      ]
     },
     "metadata": {},
     "output_type": "display_data"
    },
    {
     "name": "stdout",
     "output_type": "stream",
     "text": [
      "Simulating 1240 subhalos between 7.0 and 10.0\n",
      "Simulating 1162 subhalos between 7.0 and 10.0\n",
      "Simulating 1281 subhalos between 7.0 and 10.0\n",
      "Simulating 1231 subhalos between 7.0 and 10.0\n",
      "Simulating 1180 subhalos between 7.0 and 10.0\n",
      "Simulating 1183 subhalos between 7.0 and 10.0\n",
      "Simulating 1249 subhalos between 7.0 and 10.0\n",
      "Simulating 1159 subhalos between 7.0 and 10.0\n",
      "Simulating 1258 subhalos between 7.0 and 10.0\n",
      "Simulating 1251 subhalos between 7.0 and 10.0\n",
      "Simulating 1186 subhalos between 7.0 and 10.0\n",
      "Simulating 1083 subhalos between 7.0 and 10.0\n",
      "Simulating 1186 subhalos between 7.0 and 10.0\n",
      "Simulating 1173 subhalos between 7.0 and 10.0\n",
      "Simulating 1199 subhalos between 7.0 and 10.0\n",
      "Simulating 1160 subhalos between 7.0 and 10.0\n",
      "Simulating 1230 subhalos between 7.0 and 10.0\n",
      "Simulating 1244 subhalos between 7.0 and 10.0\n",
      "Simulating 1173 subhalos between 7.0 and 10.0\n",
      "Simulating 1200 subhalos between 7.0 and 10.0\n",
      "Simulating 1163 subhalos between 7.0 and 10.0\n",
      "Simulating 1243 subhalos between 7.0 and 10.0\n",
      "Simulating 1159 subhalos between 7.0 and 10.0\n",
      "Simulating 1260 subhalos between 7.0 and 10.0\n",
      "Simulating 1191 subhalos between 7.0 and 10.0\n",
      "Simulating 1215 subhalos between 7.0 and 10.0\n",
      "Simulating 1239 subhalos between 7.0 and 10.0\n",
      "Simulating 1211 subhalos between 7.0 and 10.0\n",
      "Simulating 1227 subhalos between 7.0 and 10.0\n",
      "Simulating 1253 subhalos between 7.0 and 10.0\n",
      "Simulating 1210 subhalos between 7.0 and 10.0\n",
      "Simulating 1185 subhalos between 7.0 and 10.0\n",
      "Simulating 1179 subhalos between 7.0 and 10.0\n",
      "Simulating 1190 subhalos between 7.0 and 10.0\n",
      "Simulating 1184 subhalos between 7.0 and 10.0\n",
      "Simulating 1274 subhalos between 7.0 and 10.0\n",
      "Simulating 1219 subhalos between 7.0 and 10.0\n",
      "Simulating 1235 subhalos between 7.0 and 10.0\n",
      "Simulating 1174 subhalos between 7.0 and 10.0\n",
      "Simulating 1221 subhalos between 7.0 and 10.0\n",
      "Simulating 1212 subhalos between 7.0 and 10.0\n",
      "Simulating 1208 subhalos between 7.0 and 10.0\n",
      "Simulating 1272 subhalos between 7.0 and 10.0\n",
      "Simulating 1199 subhalos between 7.0 and 10.0\n",
      "Simulating 1170 subhalos between 7.0 and 10.0\n",
      "Simulating 1219 subhalos between 7.0 and 10.0\n",
      "Simulating 1198 subhalos between 7.0 and 10.0\n",
      "Simulating 1187 subhalos between 7.0 and 10.0\n",
      "Simulating 1184 subhalos between 7.0 and 10.0\n",
      "Simulating 1209 subhalos between 7.0 and 10.0\n"
     ]
    },
    {
     "data": {
      "application/vnd.jupyter.widget-view+json": {
       "model_id": "ade4b9a00cdd451caf09b9bfcfb0ad39",
       "version_major": 2,
       "version_minor": 0
      },
      "text/plain": [
       "  0%|          | 0/50 [00:00<?, ?it/s]"
      ]
     },
     "metadata": {},
     "output_type": "display_data"
    },
    {
     "name": "stdout",
     "output_type": "stream",
     "text": [
      "Simulating 1255 subhalos between 7.0 and 10.0\n",
      "Simulating 1212 subhalos between 7.0 and 10.0\n",
      "Simulating 1213 subhalos between 7.0 and 10.0\n",
      "Simulating 1205 subhalos between 7.0 and 10.0\n",
      "Simulating 1203 subhalos between 7.0 and 10.0\n",
      "Simulating 1275 subhalos between 7.0 and 10.0\n",
      "Simulating 1170 subhalos between 7.0 and 10.0\n",
      "Simulating 1214 subhalos between 7.0 and 10.0\n",
      "Simulating 1264 subhalos between 7.0 and 10.0\n",
      "Simulating 1208 subhalos between 7.0 and 10.0\n",
      "Simulating 1242 subhalos between 7.0 and 10.0\n",
      "Simulating 1157 subhalos between 7.0 and 10.0\n",
      "Simulating 1296 subhalos between 7.0 and 10.0\n",
      "Simulating 1199 subhalos between 7.0 and 10.0\n",
      "Simulating 1202 subhalos between 7.0 and 10.0\n",
      "Simulating 1211 subhalos between 7.0 and 10.0\n",
      "Simulating 1252 subhalos between 7.0 and 10.0\n",
      "Simulating 1223 subhalos between 7.0 and 10.0\n",
      "Simulating 1142 subhalos between 7.0 and 10.0\n",
      "Simulating 1208 subhalos between 7.0 and 10.0\n",
      "Simulating 1193 subhalos between 7.0 and 10.0\n",
      "Simulating 1245 subhalos between 7.0 and 10.0\n",
      "Simulating 1204 subhalos between 7.0 and 10.0\n",
      "Simulating 1194 subhalos between 7.0 and 10.0\n",
      "Simulating 1212 subhalos between 7.0 and 10.0\n",
      "Simulating 1239 subhalos between 7.0 and 10.0\n",
      "Simulating 1201 subhalos between 7.0 and 10.0\n",
      "Simulating 1186 subhalos between 7.0 and 10.0\n",
      "Simulating 1150 subhalos between 7.0 and 10.0\n",
      "Simulating 1120 subhalos between 7.0 and 10.0\n",
      "Simulating 1169 subhalos between 7.0 and 10.0\n",
      "Simulating 1195 subhalos between 7.0 and 10.0\n",
      "Simulating 1222 subhalos between 7.0 and 10.0\n",
      "Simulating 1171 subhalos between 7.0 and 10.0\n",
      "Simulating 1160 subhalos between 7.0 and 10.0\n",
      "Simulating 1236 subhalos between 7.0 and 10.0\n",
      "Simulating 1208 subhalos between 7.0 and 10.0\n",
      "Simulating 1128 subhalos between 7.0 and 10.0\n",
      "Simulating 1276 subhalos between 7.0 and 10.0\n",
      "Simulating 1205 subhalos between 7.0 and 10.0\n",
      "Simulating 1222 subhalos between 7.0 and 10.0\n",
      "Simulating 1212 subhalos between 7.0 and 10.0\n",
      "Simulating 1255 subhalos between 7.0 and 10.0\n",
      "Simulating 1215 subhalos between 7.0 and 10.0\n",
      "Simulating 1199 subhalos between 7.0 and 10.0\n",
      "Simulating 1193 subhalos between 7.0 and 10.0\n",
      "Simulating 1215 subhalos between 7.0 and 10.0\n",
      "Simulating 1239 subhalos between 7.0 and 10.0\n",
      "Simulating 1236 subhalos between 7.0 and 10.0\n",
      "Simulating 1217 subhalos between 7.0 and 10.0\n"
     ]
    }
   ],
   "source": [
    "run_id_list = ['303ceae8593c4ab78a573e1a3b1d83b1', '1936d60ac8f945b4b6873c96a4946f32', 'ede8a36abe9d4baf9dd8bbfbf7d0f158']\n",
    "\n",
    "n_trials = 50\n",
    "n_test = 30\n",
    "\n",
    "lims_ary = np.zeros((len(run_id_list), n_trials))\n",
    "\n",
    "for i_run, run_id in enumerate(run_id_list):\n",
    "\n",
    "    data_dir = '/scratch/sm8383/sbi-fermi/data/'\n",
    "    model_uri = \"runs:/{}/density_estimator\".format(run_id)\n",
    "    density_estimator = mlflow.pytorch.load_model('/Users/smsharma/PycharmProjects/sbi-astrometry/data/logs/mlruns/0/' + run_id + '/artifacts/density_estimator')\n",
    "\n",
    "    list(density_estimator.children())[0].add_noise.sigma = 0.\n",
    "\n",
    "\n",
    "    out = np.zeros((n_trials, n_test))\n",
    "\n",
    "    for i_trial in tqdm(range(n_trials)):\n",
    "\n",
    "        sim.set_mass_distribution(sim.rho_M_SI, M_min=1e7 * M_s, M_max=1e10 * M_s, M_min_calib=1e8 * M_s, M_max_calib=1.1e10 * M_s, N_calib=150., alpha=-1.9)\n",
    "        sim.set_radial_distribution(sim.r2rho_V_ein_EAQ, R_min=1e-3 * kpc, R_max=260 * kpc)\n",
    "        sim.set_subhalo_properties(sim.c200_SCP, distdep=False)\n",
    "\n",
    "        sim.analysis_pipeline(get_sample=True)\n",
    "        sim.mu_qsrs = 1e6 * hp.reorder(sim.mu_qsrs.T, r2n=True).T\n",
    "\n",
    "        x_test = torch.Tensor(sim.mu_qsrs)\n",
    "\n",
    "        gn = GaussianNoise(sigma=0.0023)\n",
    "        x_test = gn(x_test).T\n",
    "\n",
    "        theta_test = torch.linspace(1., 300., n_test).unsqueeze(1)\n",
    "\n",
    "        out[i_trial, :] = [density_estimator(x_test.unsqueeze(0), theta_test\n",
    "                                             [i].unsqueeze(0)).squeeze().detach().numpy() \\\n",
    "               for i in (range(n_test))]\n",
    "\n",
    "    llrmin, llrmax = 0., 15.\n",
    "\n",
    "    for i_trial, out_inst in enumerate(out):\n",
    "        llr = - 2 * out_inst\n",
    "        llr -= np.min(llr)\n",
    "        llr = np.clip(llr, llrmin, llrmax)\n",
    "\n",
    "        try:\n",
    "            lim_trial = get_lim(np.expand_dims(llr[:], 0), theta_test.squeeze().detach().numpy()[:])\n",
    "        except:\n",
    "            lim_trial = np.nan\n",
    "            continue\n",
    "        \n",
    "        lims_ary[i_run, i_trial] = lim_trial"
   ]
  },
  {
   "cell_type": "code",
   "execution_count": 21,
   "metadata": {},
   "outputs": [],
   "source": [
    "lims_ary[lims_ary == 0.] = np.nan"
   ]
  },
  {
   "cell_type": "markdown",
   "metadata": {},
   "source": [
    "### Plot"
   ]
  },
  {
   "cell_type": "code",
   "execution_count": 39,
   "metadata": {},
   "outputs": [
    {
     "name": "stdout",
     "output_type": "stream",
     "text": [
      "0.1280184991297499\n",
      "0.2153241974261756\n"
     ]
    },
    {
     "data": {
      "image/png": "[encoded data removed]",
      "text/plain": [
       "<Figure size 806.4x345.6 with 2 Axes>"
      ]
     },
     "metadata": {
      "needs_background": "light"
     },
     "output_type": "display_data"
    }
   ],
   "source": [
    "fig, ax = plt.subplots(1, 2, figsize=(11.2, 4.8))\n",
    "\n",
    "## TS profiles\n",
    "\n",
    "# Fisher forecast setup\n",
    "\n",
    "sigma_mu = .1\n",
    "sigma_alpha = None\n",
    "N_q = 1e8\n",
    "\n",
    "fDM_base = 1\n",
    "dfDM_base = 0.1\n",
    "\n",
    "Cl_ary_fid = pspecpop.C_l_ary*fDM_base\n",
    "\n",
    "p = pspecpop.C_l_ary*(fDM_base + dfDM_base)\n",
    "m = pspecpop.C_l_ary*(fDM_base - dfDM_base)\n",
    "\n",
    "fDM = Parameter('fDM', fDM_base ,dfDM_base ,None, True, p, m, None, None, '$\\\\f_\\mathrm{DM}$' )\n",
    "\n",
    "M_calib_ary = np.logspace(8, 10) * M_s\n",
    "calib = 150 / np.trapz(pspecpop.rho_M_SI(M_calib_ary, alpha=-1.9), M_calib_ary)\n",
    "\n",
    "M_ary = np.logspace(-6, 10) * M_s\n",
    "f_sub_fid = np.trapz(M_ary * calib * pspecpop.rho_M_SI(M_ary, alpha=-1.9), M_ary) / M_MW\n",
    "\n",
    "signal = np.linspace(1e-3, 2, 100)\n",
    "\n",
    "ls_list = ['--', '-']\n",
    "\n",
    "llrmin, llrmax = 0., 15.\n",
    "\n",
    "llr = - 2 * out_mean\n",
    "llr -= np.min(llr)\n",
    "llr = np.clip(llr, llrmin, llrmax)\n",
    "\n",
    "# Plot TS profile obtained by neural LR estimation\n",
    "ax[0].plot((f_sub_fid / 150) * theta_test.squeeze().detach().numpy(), llr, label=\"SBI\", color=cols_default[0])\n",
    "\n",
    "# Get fisher 1-sigma uncertainty for different multipole thresholds\n",
    "# the plot the respective TS profiles\n",
    "\n",
    "for i_l, l_min in enumerate([5, 10]):\n",
    "\n",
    "    parameters = [Cl_ary_fid, None, pspecpop.l_min, pspecpop.l_max, fDM]\n",
    "    observation = AstrometryObservation(fsky=1, sigma_mu=sigma_mu, sigma_alpha=None, N_q_mu=N_q, l_min_mu=l_min, l_max_mu=300, l_min_alpha=200, l_max_alpha=2000)\n",
    "\n",
    "    fshr = FisherForecast(parameters, observation)\n",
    "\n",
    "    sigma=fshr.pars_vary[0].sigma\n",
    "\n",
    "    x_arr=np.linspace(0, 2)\n",
    "    LL_ary = norm.logpdf(x_arr, fDM_base, sigma)\n",
    "    ax[0].plot(f_sub_fid * x_arr, -2 * (LL_ary - np.max(LL_ary)), label=r\"PS, $\\ell \\geq {}$\".format(l_min), ls=ls_list[i_l], color=cols_default[1])\n",
    "    \n",
    "    print(fshr.pars_vary[0].sigma * f_sub_fid)\n",
    "\n",
    "# Significance thresholds\n",
    "\n",
    "ax[0].axhline(chi2.isf(1 - .95, 1), color='dimgrey', alpha=0.6, lw=1)\n",
    "t = ax[0].text(f_sub_fid / 3 + 0.05, chi2.isf(1 - .95, 1), r\"2-$\\sigma$\",  color='dimgrey', alpha=0.6, fontsize=16, verticalalignment='center')\n",
    "t.set_bbox(dict(facecolor='white', alpha=1., edgecolor='white'))\n",
    "\n",
    "ax[0].axhline(chi2.isf(1 - .68, 1), color='dimgrey', alpha=0.6, lw=1)\n",
    "t = ax[0].text(f_sub_fid / (3 / 2) + 0.02, chi2.isf(1 - .68, 1), r\"1-$\\sigma$\",  color='dimgrey', alpha=0.6, fontsize=16, verticalalignment='center')\n",
    "t.set_bbox(dict(facecolor='white', alpha=1., edgecolor='white'))\n",
    "\n",
    "ax[0].axvline(f_sub_fid, color='dimgrey', lw=1, ls='--', alpha=0.6)\n",
    "t = ax[0].text(f_sub_fid, 2, r\"\\emph{Truth}\", rotation=90, horizontalalignment='center', fontsize=15, color='dimgrey', alpha=0.6)\n",
    "t.set_bbox(dict(facecolor='white', alpha=1., edgecolor='white'))\n",
    "\n",
    "ax[0].set_ylim(-0.01, 6)\n",
    "ax[0].set_xlim(0.0, 0.415)\n",
    "\n",
    "ax[0].set_xlabel(r\"$f_\\mathrm{sub}$\")\n",
    "ax[0].set_ylabel(r\"$\\mathrm{TS}  = -2 \\Delta \\mathbb{E}_x\\ln  \\hat r(x\\mid f_\\mathrm{sub}) $\")\n",
    "\n",
    "ax[0].set_title(r\"\\bf{Expected test-statistic}\", y=1.008)\n",
    "\n",
    "sigma_list = [0.0016, 0.0023, 0.003]\n",
    "\n",
    "# l_min_list = [2, 5, 10]\n",
    "l_min_list = [5, 10]\n",
    "\n",
    "sigma_ps = np.zeros((len(l_min_list), len(sigma_list)))\n",
    "\n",
    "for i_l, l_min in enumerate(l_min_list):\n",
    "    for i_s, sigma_mu in enumerate([0.0721, 0.105, 0.132]):    \n",
    "\n",
    "        N_q = 1e8\n",
    "\n",
    "        parameters = [Cl_ary_fid, None, pspecpop.l_min, pspecpop.l_max, fDM]\n",
    "        observation = AstrometryObservation(fsky=1, sigma_mu=sigma_mu, sigma_alpha=None, N_q_mu=N_q, l_min_mu=l_min, l_max_mu=3 * nside - 1, l_min_alpha=200, l_max_alpha=2000)\n",
    "\n",
    "        fshr = FisherForecast(parameters, observation)\n",
    "\n",
    "        sigma=fshr.pars_vary[0].sigma\n",
    "        sigma_ps[i_l, i_s] = (f_sub_fid * sigma)\n",
    "\n",
    "run_id_list = ['303ceae8593c4ab78a573e1a3b1d83b1', '1936d60ac8f945b4b6873c96a4946f32', 'ede8a36abe9d4baf9dd8bbfbf7d0f158']\n",
    "\n",
    "perc = (f_sub_fid / 150 / 2) * np.array([np.nanpercentile(lims_ary[i], q=[2.5, 16, 50, 84, 97.5]) for i in range(len(run_id_list))])\n",
    "\n",
    "ax[1].plot(np.array(sigma_list) * 10 * np.sqrt(N_q_pix), perc[:, 2], label=\"Neural $\\hat r$ estimation\", color=cols_default[0])\n",
    "# ax[1].fill_between(np.array(sigma_list) * 10 * np.sqrt(N_q_pix), perc[:, 1], perc[:, 3], alpha=0.2, color=cols_default[0])\n",
    "ax[1].fill_between(np.array(sigma_list) * 10 * np.sqrt(N_q_pix), perc[:, 0], perc[:, 4], alpha=0.2, color=cols_default[0])\n",
    "\n",
    "for i_s, sigma_mu in enumerate(sigma_ps):\n",
    "    ax[1].plot(np.array(sigma_list) * 10 * np.sqrt(N_q_pix), sigma_mu, label=r\"Power spectrum, $\\ell \\ge {}$\".format(l_min_list[i_s]), color=cols_default[1], ls=ls_list[i_s])\n",
    "    \n",
    "ax[1].set_xlim(0.0016 * 10 * np.sqrt(N_q_pix), 0.003 * 10 * np.sqrt(N_q_pix))\n",
    "ax[1].set_ylim(0, 0.45)\n",
    "\n",
    "ax[1].set_xlabel(r\"Assumed noise $\\sigma_\\mu\\,[\\times 10\\,\\mu$as\\,yr$^{-1}$]\")\n",
    "ax[1].set_ylabel(r\"Projected uncertainty $\\sigma_{f_\\mathrm{sub}}$\")\n",
    "\n",
    "ax[1].set_title(r\"\\bf{Variation of sensitivity with noise}\", y=1.008)\n",
    "\n",
    "ax[1].legend(frameon=True, framealpha=0.90, handlelength=1.2, loc='upper left')\n",
    "\n",
    "plt.tight_layout()\n",
    "fig.subplots_adjust(wspace=0.3)\n",
    "plt.savefig(\"../paper/arXiv-v1/figures/results.pdf\")"
   ]
  },
  {
   "cell_type": "markdown",
   "metadata": {},
   "source": [
    "## Correlated noise tests"
   ]
  },
  {
   "cell_type": "code",
   "execution_count": 23,
   "metadata": {},
   "outputs": [],
   "source": [
    "lmax = 64 * 3 - 1\n",
    "l_ary = np.arange(lmax)"
   ]
  },
  {
   "cell_type": "code",
   "execution_count": 24,
   "metadata": {},
   "outputs": [],
   "source": [
    "run_id = '1936d60ac8f945b4b6873c96a4946f32'\n",
    "    \n",
    "data_dir = '/scratch/sm8383/sbi-fermi/data/'\n",
    "model_uri = \"runs:/{}/density_estimator\".format(run_id)\n",
    "density_estimator = mlflow.pytorch.load_model('/Users/smsharma/PycharmProjects/sbi-astrometry/data/logs/mlruns/0/' + run_id + '/artifacts/density_estimator')"
   ]
  },
  {
   "cell_type": "code",
   "execution_count": 25,
   "metadata": {},
   "outputs": [],
   "source": [
    "max_sep = 25\n",
    "nside = 64\n",
    "lmax = 3 * nside - 1\n",
    "\n",
    "sim = QuasarSim(max_sep=max_sep, \n",
    "                verbose=True,\n",
    "                sim_uniform=True, \n",
    "                nside=nside, \n",
    "                calc_powerspecs=False, \n",
    "                do_alpha=False,\n",
    "                sh_profile='NFW')"
   ]
  },
  {
   "cell_type": "code",
   "execution_count": 26,
   "metadata": {},
   "outputs": [],
   "source": [
    "list(density_estimator.children())[0].add_noise.sigma = 0."
   ]
  },
  {
   "cell_type": "code",
   "execution_count": 27,
   "metadata": {},
   "outputs": [
    {
     "data": {
      "application/vnd.jupyter.widget-view+json": {
       "model_id": "a02ae971df60408caa97c3373fdbbdeb",
       "version_major": 2,
       "version_minor": 0
      },
      "text/plain": [
       "  0%|          | 0/100 [00:00<?, ?it/s]"
      ]
     },
     "metadata": {},
     "output_type": "display_data"
    },
    {
     "name": "stdout",
     "output_type": "stream",
     "text": [
      "Simulating 1204 subhalos between 7.0 and 10.0\n"
     ]
    },
    {
     "name": "stderr",
     "output_type": "stream",
     "text": [
      "WARNING: AstropyDeprecationWarning: In v4.1 and later versions, the Galactocentric frame will adopt default parameters that may update with time. An updated default parameter set is already available through the astropy.coordinates.galactocentric_frame_defaults ScienceState object, as described in but the default is currently still set to the pre-v4.0 parameter defaults. The safest way to guard against changing default parameters in the future is to either (1) specify all Galactocentric frame attributes explicitly when using the frame, or (2) set the galactocentric_frame_defaults parameter set name explicitly. See http://docs.astropy.org/en/latest/coordinates/galactocentric.html for more information. [astropy.coordinates.builtin_frames.galactocentric]\n"
     ]
    },
    {
     "name": "stdout",
     "output_type": "stream",
     "text": [
      "Simulating 1242 subhalos between 7.0 and 10.0\n",
      "Simulating 1191 subhalos between 7.0 and 10.0\n",
      "Simulating 1168 subhalos between 7.0 and 10.0\n",
      "Simulating 1209 subhalos between 7.0 and 10.0\n",
      "Simulating 1241 subhalos between 7.0 and 10.0\n",
      "Simulating 1162 subhalos between 7.0 and 10.0\n",
      "Simulating 1188 subhalos between 7.0 and 10.0\n",
      "Simulating 1228 subhalos between 7.0 and 10.0\n",
      "Simulating 1263 subhalos between 7.0 and 10.0\n",
      "Simulating 1190 subhalos between 7.0 and 10.0\n",
      "Simulating 1221 subhalos between 7.0 and 10.0\n",
      "Simulating 1210 subhalos between 7.0 and 10.0\n",
      "Simulating 1228 subhalos between 7.0 and 10.0\n",
      "Simulating 1179 subhalos between 7.0 and 10.0\n",
      "Simulating 1203 subhalos between 7.0 and 10.0\n",
      "Simulating 1240 subhalos between 7.0 and 10.0\n",
      "Simulating 1200 subhalos between 7.0 and 10.0\n",
      "Simulating 1203 subhalos between 7.0 and 10.0\n",
      "Simulating 1149 subhalos between 7.0 and 10.0\n",
      "Simulating 1207 subhalos between 7.0 and 10.0\n",
      "Simulating 1187 subhalos between 7.0 and 10.0\n",
      "Simulating 1168 subhalos between 7.0 and 10.0\n",
      "Simulating 1273 subhalos between 7.0 and 10.0\n",
      "Simulating 1195 subhalos between 7.0 and 10.0\n",
      "Simulating 1202 subhalos between 7.0 and 10.0\n",
      "Simulating 1155 subhalos between 7.0 and 10.0\n",
      "Simulating 1227 subhalos between 7.0 and 10.0\n",
      "Simulating 1190 subhalos between 7.0 and 10.0\n",
      "Simulating 1209 subhalos between 7.0 and 10.0\n",
      "Simulating 1233 subhalos between 7.0 and 10.0\n",
      "Simulating 1189 subhalos between 7.0 and 10.0\n",
      "Simulating 1196 subhalos between 7.0 and 10.0\n",
      "Simulating 1215 subhalos between 7.0 and 10.0\n",
      "Simulating 1247 subhalos between 7.0 and 10.0\n",
      "Simulating 1162 subhalos between 7.0 and 10.0\n",
      "Simulating 1200 subhalos between 7.0 and 10.0\n",
      "Simulating 1241 subhalos between 7.0 and 10.0\n",
      "Simulating 1147 subhalos between 7.0 and 10.0\n",
      "Simulating 1234 subhalos between 7.0 and 10.0\n",
      "Simulating 1184 subhalos between 7.0 and 10.0\n",
      "Simulating 1197 subhalos between 7.0 and 10.0\n",
      "Simulating 1220 subhalos between 7.0 and 10.0\n",
      "Simulating 1239 subhalos between 7.0 and 10.0\n",
      "Simulating 1229 subhalos between 7.0 and 10.0\n",
      "Simulating 1277 subhalos between 7.0 and 10.0\n",
      "Simulating 1230 subhalos between 7.0 and 10.0\n",
      "Simulating 1132 subhalos between 7.0 and 10.0\n",
      "Simulating 1243 subhalos between 7.0 and 10.0\n",
      "Simulating 1162 subhalos between 7.0 and 10.0\n",
      "Simulating 1205 subhalos between 7.0 and 10.0\n",
      "Simulating 1174 subhalos between 7.0 and 10.0\n",
      "Simulating 1242 subhalos between 7.0 and 10.0\n",
      "Simulating 1211 subhalos between 7.0 and 10.0\n",
      "Simulating 1237 subhalos between 7.0 and 10.0\n",
      "Simulating 1208 subhalos between 7.0 and 10.0\n",
      "Simulating 1221 subhalos between 7.0 and 10.0\n",
      "Simulating 1220 subhalos between 7.0 and 10.0\n",
      "Simulating 1192 subhalos between 7.0 and 10.0\n",
      "Simulating 1209 subhalos between 7.0 and 10.0\n",
      "Simulating 1151 subhalos between 7.0 and 10.0\n",
      "Simulating 1240 subhalos between 7.0 and 10.0\n",
      "Simulating 1165 subhalos between 7.0 and 10.0\n",
      "Simulating 1243 subhalos between 7.0 and 10.0\n",
      "Simulating 1196 subhalos between 7.0 and 10.0\n",
      "Simulating 1230 subhalos between 7.0 and 10.0\n",
      "Simulating 1203 subhalos between 7.0 and 10.0\n",
      "Simulating 1260 subhalos between 7.0 and 10.0\n",
      "Simulating 1186 subhalos between 7.0 and 10.0\n",
      "Simulating 1193 subhalos between 7.0 and 10.0\n",
      "Simulating 1247 subhalos between 7.0 and 10.0\n",
      "Simulating 1171 subhalos between 7.0 and 10.0\n",
      "Simulating 1237 subhalos between 7.0 and 10.0\n",
      "Simulating 1203 subhalos between 7.0 and 10.0\n",
      "Simulating 1166 subhalos between 7.0 and 10.0\n",
      "Simulating 1132 subhalos between 7.0 and 10.0\n",
      "Simulating 1212 subhalos between 7.0 and 10.0\n",
      "Simulating 1152 subhalos between 7.0 and 10.0\n",
      "Simulating 1136 subhalos between 7.0 and 10.0\n",
      "Simulating 1311 subhalos between 7.0 and 10.0\n",
      "Simulating 1168 subhalos between 7.0 and 10.0\n",
      "Simulating 1197 subhalos between 7.0 and 10.0\n",
      "Simulating 1231 subhalos between 7.0 and 10.0\n",
      "Simulating 1177 subhalos between 7.0 and 10.0\n",
      "Simulating 1281 subhalos between 7.0 and 10.0\n",
      "Simulating 1205 subhalos between 7.0 and 10.0\n",
      "Simulating 1187 subhalos between 7.0 and 10.0\n",
      "Simulating 1233 subhalos between 7.0 and 10.0\n",
      "Simulating 1200 subhalos between 7.0 and 10.0\n",
      "Simulating 1151 subhalos between 7.0 and 10.0\n",
      "Simulating 1208 subhalos between 7.0 and 10.0\n",
      "Simulating 1233 subhalos between 7.0 and 10.0\n",
      "Simulating 1232 subhalos between 7.0 and 10.0\n",
      "Simulating 1202 subhalos between 7.0 and 10.0\n",
      "Simulating 1199 subhalos between 7.0 and 10.0\n",
      "Simulating 1230 subhalos between 7.0 and 10.0\n",
      "Simulating 1163 subhalos between 7.0 and 10.0\n",
      "Simulating 1163 subhalos between 7.0 and 10.0\n",
      "Simulating 1177 subhalos between 7.0 and 10.0\n",
      "Simulating 1265 subhalos between 7.0 and 10.0\n"
     ]
    }
   ],
   "source": [
    "n_trials = 100\n",
    "n_test = 30\n",
    "\n",
    "out = np.zeros((n_trials, n_test))\n",
    "\n",
    "for i_trial in tqdm(range(n_trials)):\n",
    "    \n",
    "    sim.set_mass_distribution(sim.rho_M_SI, M_min=1e7 * M_s, M_max=1e10 * M_s, M_min_calib=1e8 * M_s, M_max_calib=1.1e10 * M_s, N_calib=150., alpha=-1.9)\n",
    "    sim.set_radial_distribution(sim.r2rho_V_ein_EAQ, R_min=1e-3 * kpc, R_max=260 * kpc)\n",
    "    sim.set_subhalo_properties(sim.c200_SCP, distdep=False)\n",
    "    \n",
    "    sim.analysis_pipeline(get_sample=True)\n",
    "    sim.mu_qsrs = 1e6 * hp.reorder(sim.mu_qsrs.T, r2n=True).T\n",
    "    \n",
    "    x_test = torch.Tensor(sim.mu_qsrs)\n",
    "    \n",
    "    lmax = 64 * 3 - 1\n",
    "    \n",
    "    sigma=0.0023\n",
    "\n",
    "    # Simulate correlated noise\n",
    "    input_cl = sigma ** 2 * hp.nside2pixarea(64, degrees=False) * (10 - 9 / (1 + np.exp(-(-10 + l_ary) / 1.)))\n",
    "    noise_test = torch.Tensor([hp.synfast(input_cl, nside=64, pixwin=True), hp.synfast(input_cl, nside=64, pixwin=True)])\n",
    "    \n",
    "    x_test = (x_test.T + noise_test)\n",
    "    \n",
    "    theta_test = torch.linspace(1., 300., n_test).unsqueeze(1)\n",
    "\n",
    "    out[i_trial, :] = [density_estimator(x_test.unsqueeze(0), theta_test\n",
    "                                         [i].unsqueeze(0)).squeeze().detach().numpy() \\\n",
    "           for i in (range(n_test))]"
   ]
  },
  {
   "cell_type": "code",
   "execution_count": 29,
   "metadata": {},
   "outputs": [],
   "source": [
    "out_mean_lsnoise = np.mean(out, axis=0)"
   ]
  },
  {
   "cell_type": "markdown",
   "metadata": {},
   "source": [
    "### Plot"
   ]
  },
  {
   "cell_type": "code",
   "execution_count": 34,
   "metadata": {},
   "outputs": [
    {
     "name": "stderr",
     "output_type": "stream",
     "text": [
      "/Users/smsharma/anaconda3/envs/sbi-fermi/lib/python3.6/_collections_abc.py:841: MatplotlibDeprecationWarning: Support for setting the 'text.latex.preamble' or 'pgf.preamble' rcParam to a list of strings is deprecated since 3.3 and will be removed two minor releases later; set it to a single string instead.\n",
      "  self[key] = other[key]\n"
     ]
    }
   ],
   "source": [
    "import matplotlib\n",
    "\n",
    "params= {'text.latex.preamble' : [r'\\usepackage{amssymb}']}\n",
    "matplotlib.rcParams.update(params)"
   ]
  },
  {
   "cell_type": "code",
   "execution_count": 38,
   "metadata": {},
   "outputs": [
    {
     "data": {
      "image/png": "[encoded data removed]",
      "text/plain": [
       "<Figure size 806.4x345.6 with 2 Axes>"
      ]
     },
     "metadata": {
      "needs_background": "light"
     },
     "output_type": "display_data"
    }
   ],
   "source": [
    "from matplotlib.patches import Patch\n",
    "from matplotlib.lines import Line2D\n",
    "\n",
    "fig, ax = plt.subplots(1, 2, figsize=(11.2, 4.8))\n",
    "\n",
    "llrmin, llrmax = 0., 15.\n",
    "\n",
    "llr_lsnoise = - 2 * out_mean_lsnoise\n",
    "llr_lsnoise -= np.min(llr_lsnoise)\n",
    "llr_lsnoise = np.clip(llr_lsnoise, llrmin, llrmax)\n",
    "\n",
    "llr = - 2 * out_mean\n",
    "llr -= np.min(llr)\n",
    "llr = np.clip(llr, llrmin, llrmax)\n",
    "\n",
    "## TS profile for both cases\n",
    "\n",
    "ax[1].plot((f_sub_fid / 150) * theta_test.squeeze().detach().numpy(), llr, color=cols_default[0], label=\"Baseline\")\n",
    "ax[1].plot((f_sub_fid / 150) * theta_test.squeeze().detach().numpy(), llr_lsnoise, color=cols_default[2], label=\"With unmodeled noise\")\n",
    "\n",
    "from scipy.interpolate import interp1d\n",
    "\n",
    "# Do a cheeky interpolation for the smallest parameter points that weren't explored\n",
    "x_interp = np.linspace(0, ((f_sub_fid / 150) * theta_test.squeeze().detach().numpy())[0] - 1e-3, 10)\n",
    "sp_interp = interp1d((f_sub_fid / 150) * theta_test.squeeze().detach().numpy(), llr_lsnoise, bounds_error=False, fill_value=\"extrapolate\")\n",
    "\n",
    "ax[1].plot(x_interp, sp_interp(x_interp), color=cols_default[2], )\n",
    "\n",
    "ax[1].axhline(chi2.isf(1 - .95, 1), color='dimgrey', alpha=0.6, lw=1)\n",
    "t = ax[1].text(f_sub_fid / 3 + 0.05, chi2.isf(1 - .95, 1), r\"2-$\\sigma$\",  color='dimgrey', alpha=0.6, fontsize=16, verticalalignment='center')\n",
    "t.set_bbox(dict(facecolor='white', alpha=1., edgecolor='white'))\n",
    "\n",
    "ax[1].axhline(chi2.isf(1 - .68, 1), color='dimgrey', alpha=0.6, lw=1)\n",
    "t = ax[1].text(f_sub_fid / (3 / 2) + 0.02, chi2.isf(1 - .68, 1), r\"1-$\\sigma$\",  color='dimgrey', alpha=0.6, fontsize=16, verticalalignment='center')\n",
    "t.set_bbox(dict(facecolor='white', alpha=1., edgecolor='white'))\n",
    "\n",
    "ax[1].axvline(f_sub_fid, color='dimgrey', lw=1, ls='--', alpha=0.6)\n",
    "t = ax[1].text(f_sub_fid, 2, r\"\\emph{Truth}\", rotation=90, horizontalalignment='center', fontsize=15, color='dimgrey', alpha=0.6)\n",
    "t.set_bbox(dict(facecolor='white', alpha=1., edgecolor='white'))\n",
    "\n",
    "ax[1].set_ylim(-0.01, 6)\n",
    "ax[1].set_xlim(0.0, 0.415)\n",
    "\n",
    "ax[1].set_xlabel(r\"$f_\\mathrm{sub}$\")\n",
    "ax[1].set_ylabel(r\"$\\mathrm{TS}  = -2 \\Delta \\mathbb{E}_x\\ln  \\hat r(x\\mid f_\\mathrm{sub}) $\")\n",
    "# ax[1].set_ylabel(r\"$\\mathrm{TS}  = -2 \\ln  (\\hat r / \\hat r_\\mathrm{max}) $\")\n",
    "\n",
    "ax[1].set_title(r\"\\bf{Expected test-statistic}\", y=1.008)\n",
    "\n",
    "ax[1].legend(loc='upper right', frameon=True, framealpha=0.9, handlelength=1.2)\n",
    "\n",
    "## Illustration of noise model\n",
    "\n",
    "sigma = 0.0023\n",
    "    \n",
    "ax[0].axhline(sigma ** 2 * hp.nside2pixarea(64, degrees=False), color=cols_default[0], ls='-', label=\"Baseline\")\n",
    "\n",
    "input_cl = sigma ** 2 * hp.nside2pixarea(64, degrees=False) * np.ones_like(l_ary)\n",
    "for _ in range(1):\n",
    "    synmap = hp.synfast(input_cl, nside=64)\n",
    "    ax[0].plot(hp.anafast(synmap), color=cols_default[0], alpha=0.6, lw=0.6)\n",
    "\n",
    "# Theory noise power spectrum\n",
    "input_cl = sigma ** 2 * hp.nside2pixarea(64, degrees=False) * (10 - 9 / (1 + np.exp(-(-10 + l_ary) / 1.)))\n",
    "\n",
    "ax[0].plot(l_ary, input_cl, color=cols_default[2], ls='-', label=\"Excess large-scale noise\",)\n",
    "\n",
    "# Create and plot an example realization\n",
    "for _ in range(1):\n",
    "    synmap = hp.synfast(input_cl, nside=64)\n",
    "    ax[0].plot(hp.anafast(synmap), color=cols_default[2], alpha=0.6, lw=0.6)\n",
    "\n",
    "ax[0].set_yscale(\"log\")\n",
    "\n",
    "ax[0].set_xlim(1, 51)\n",
    "ax[0].set_ylim(8e-10, 3e-8)\n",
    "\n",
    "ax[0].set_xlabel(r\"$\\ell$\")\n",
    "ax[0].set_ylabel(r\"$C_\\ell^\\mathrm{noise}\\,[\\mu\\mathrm{as}^2\\,\\mathrm{yr}^{-2}]$\")\n",
    "ax[0].set_title(r\"\\bf{Injected noise power spectrum}\", y=1.008)\n",
    "\n",
    "ax[0].annotate(r\"\\emph{Excess large-scale noise}\", (11.5, 7e-9), xytext=(20, 3e-9), fontsize=17, arrowprops=dict(facecolor='black', arrowstyle='->'))\n",
    "\n",
    "# Custom legend\n",
    "legend_elements = [Line2D([0], [0], color='grey', lw=2.5, label='Theory power spectrum'),\n",
    "                   Line2D([0], [0], color='grey', lw=0.6, label='Example realization')]\n",
    "\n",
    "ax[0].legend(handles=legend_elements, loc='upper right', frameon=True, framealpha=0.9, handlelength=1.2)\n",
    "\n",
    "plt.tight_layout()\n",
    "fig.subplots_adjust(wspace=0.23)\n",
    "plt.savefig(\"../paper/arXiv-v1//figures/lowell_noise.pdf\")"
   ]
  },
  {
   "cell_type": "code",
   "execution_count": null,
   "metadata": {},
   "outputs": [],
   "source": []
  }
 ],
 "metadata": {
  "interpreter": {
   "hash": "d2673a4010bba7487eab53ad68352648a0b5668bd63062fe38fbddb16bbd1870"
  },
  "kernelspec": {
   "display_name": "Python 3",
   "language": "python",
   "name": "python3"
  },
  "language_info": {
   "codemirror_mode": {
    "name": "ipython",
    "version": 3
   },
   "file_extension": ".py",
   "mimetype": "text/x-python",
   "name": "python",
   "nbconvert_exporter": "python",
   "pygments_lexer": "ipython3",
   "version": "3.6.13"
  }
 },
 "nbformat": 4,
 "nbformat_minor": 4
}
