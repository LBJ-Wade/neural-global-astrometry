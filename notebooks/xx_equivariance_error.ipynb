{
 "cells": [
  {
   "cell_type": "code",
   "execution_count": 1,
   "metadata": {},
   "outputs": [],
   "source": [
    "import sys\n",
    "sys.path.append(\"../\")\n",
    "\n",
    "import matplotlib.pyplot as plt\n",
    "import matplotlib.pylab as pylab\n",
    "from pylab import cm as cmaps\n",
    "import healpy as hp\n",
    "from tqdm.notebook import tqdm\n",
    "import torch\n",
    "import torch.nn as nn\n",
    "\n",
    "from scipy.stats import chi2\n",
    "from scipy.stats import norm\n",
    "\n",
    "from plot_params import params\n",
    "from simulation.astrometry_sim import QuasarSim\n",
    "from theory.units import *\n",
    "from theory.limit import get_lim\n",
    "\n",
    "from IPython.display import set_matplotlib_formats\n",
    "set_matplotlib_formats('retina')\n",
    "\n",
    "%matplotlib inline\n",
    "%load_ext autoreload\n",
    "%autoreload 2"
   ]
  },
  {
   "cell_type": "code",
   "execution_count": 2,
   "metadata": {},
   "outputs": [
    {
     "name": "stderr",
     "output_type": "stream",
     "text": [
      "/Users/smsharma/anaconda3/lib/python3.8/_collections_abc.py:832: MatplotlibDeprecationWarning: \n",
      "The animation.avconv_args rcparam was deprecated in Matplotlib 3.3 and will be removed two minor releases later.\n",
      "  self[key] = other[key]\n",
      "/Users/smsharma/anaconda3/lib/python3.8/_collections_abc.py:832: MatplotlibDeprecationWarning: \n",
      "The animation.avconv_path rcparam was deprecated in Matplotlib 3.3 and will be removed two minor releases later.\n",
      "  self[key] = other[key]\n",
      "/Users/smsharma/anaconda3/lib/python3.8/_collections_abc.py:832: MatplotlibDeprecationWarning: \n",
      "The animation.html_args rcparam was deprecated in Matplotlib 3.3 and will be removed two minor releases later.\n",
      "  self[key] = other[key]\n",
      "/Users/smsharma/anaconda3/lib/python3.8/_collections_abc.py:832: MatplotlibDeprecationWarning: \n",
      "The keymap.all_axes rcparam was deprecated in Matplotlib 3.3 and will be removed two minor releases later.\n",
      "  self[key] = other[key]\n",
      "/Users/smsharma/anaconda3/lib/python3.8/_collections_abc.py:832: MatplotlibDeprecationWarning: \n",
      "The mathtext.fallback_to_cm rcparam was deprecated in Matplotlib 3.3 and will be removed two minor releases later.\n",
      "  self[key] = other[key]\n",
      "/Users/smsharma/anaconda3/lib/python3.8/_collections_abc.py:832: MatplotlibDeprecationWarning: Support for setting the 'mathtext.fallback_to_cm' rcParam is deprecated since 3.3 and will be removed two minor releases later; use 'mathtext.fallback : 'cm' instead.\n",
      "  self[key] = other[key]\n",
      "/Users/smsharma/anaconda3/lib/python3.8/_collections_abc.py:832: MatplotlibDeprecationWarning: \n",
      "The validate_bool_maybe_none function was deprecated in Matplotlib 3.3 and will be removed two minor releases later.\n",
      "  self[key] = other[key]\n",
      "/Users/smsharma/anaconda3/lib/python3.8/_collections_abc.py:832: MatplotlibDeprecationWarning: Support for setting the 'text.latex.preamble' or 'pgf.preamble' rcParam to a list of strings is deprecated since 3.3 and will be removed two minor releases later; set it to a single string instead.\n",
      "  self[key] = other[key]\n",
      "/Users/smsharma/anaconda3/lib/python3.8/_collections_abc.py:832: MatplotlibDeprecationWarning: \n",
      "The savefig.jpeg_quality rcparam was deprecated in Matplotlib 3.3 and will be removed two minor releases later.\n",
      "  self[key] = other[key]\n",
      "/Users/smsharma/anaconda3/lib/python3.8/_collections_abc.py:832: MatplotlibDeprecationWarning: \n",
      "The text.latex.preview rcparam was deprecated in Matplotlib 3.3 and will be removed two minor releases later.\n",
      "  self[key] = other[key]\n"
     ]
    }
   ],
   "source": [
    "from plot_params import params\n",
    "import matplotlib.pylab as pylab\n",
    "\n",
    "pylab.rcParams.update(params)\n",
    "cols_default = plt.rcParams['axes.prop_cycle'].by_key()['color']\n",
    "\n",
    "alpha_plot = 1.\n",
    "lw_plot = 2.5"
   ]
  },
  {
   "cell_type": "markdown",
   "metadata": {},
   "source": [
    "\n",
    "## Basline analysis"
   ]
  },
  {
   "cell_type": "code",
   "execution_count": 4,
   "metadata": {},
   "outputs": [
    {
     "name": "stderr",
     "output_type": "stream",
     "text": [
      "2021/12/09 13:48:48 WARNING mlflow.pytorch: Stored model version '1.8.1' does not match installed PyTorch version '1.10.0'\n",
      "/Users/smsharma/anaconda3/lib/python3.8/site-packages/PyGSP-0.5.1-py3.8.egg/pygsp/filters/simpletight.py:76: SyntaxWarning: \"is\" with a literal. Did you mean \"==\"?\n",
      "/Users/smsharma/anaconda3/lib/python3.8/site-packages/PyGSP-0.5.1-py3.8.egg/pygsp/filters/simpletight.py:79: SyntaxWarning: \"is\" with a literal. Did you mean \"==\"?\n",
      "/Users/smsharma/anaconda3/lib/python3.8/site-packages/PyGSP-0.5.1-py3.8.egg/pygsp/filters/simpletight.py:76: SyntaxWarning: \"is\" with a literal. Did you mean \"==\"?\n",
      "/Users/smsharma/anaconda3/lib/python3.8/site-packages/PyGSP-0.5.1-py3.8.egg/pygsp/filters/simpletight.py:79: SyntaxWarning: \"is\" with a literal. Did you mean \"==\"?\n"
     ]
    },
    {
     "name": "stdout",
     "output_type": "stream",
     "text": [
      "PyTorch Geometric not importable\n"
     ]
    }
   ],
   "source": [
    "import sbi.utils as utils\n",
    "import mlflow\n",
    "\n",
    "run_id = '1936d60ac8f945b4b6873c96a4946f32'\n",
    "    \n",
    "data_dir = '/scratch/sm8383/sbi-fermi/data/'\n",
    "model_uri = \"runs:/{}/density_estimator\".format(run_id)\n",
    "density_estimator = mlflow.pytorch.load_model('/Users/smsharma/PycharmProjects/sbi-astrometry/data/logs/mlruns/0/' + run_id + '/artifacts/density_estimator')"
   ]
  },
  {
   "cell_type": "code",
   "execution_count": 5,
   "metadata": {},
   "outputs": [],
   "source": [
    "Sigma_q = 1e8 / (4 * np.pi)\n",
    "pixarea = hp.nside2pixarea(nside=64, degrees=False)\n",
    "N_q_pix = Sigma_q * pixarea"
   ]
  },
  {
   "cell_type": "code",
   "execution_count": 6,
   "metadata": {},
   "outputs": [],
   "source": [
    "max_sep = 25\n",
    "nside = 64\n",
    "lmax = 3 * nside - 1\n",
    "\n",
    "sim = QuasarSim(max_sep=max_sep, \n",
    "                verbose=True,\n",
    "                sim_uniform=True, \n",
    "                nside=nside, \n",
    "                calc_powerspecs=False, \n",
    "                do_alpha=False,\n",
    "                sh_profile='NFW')"
   ]
  },
  {
   "cell_type": "code",
   "execution_count": 7,
   "metadata": {},
   "outputs": [],
   "source": [
    "list(density_estimator.children())[0].add_noise.sigma = 0."
   ]
  },
  {
   "cell_type": "code",
   "execution_count": 8,
   "metadata": {},
   "outputs": [],
   "source": [
    "class GaussianNoise(nn.Module):\n",
    "    \"\"\"Gaussian noise regularizer.\n",
    "\n",
    "    Args:\n",
    "        sigma (float, optional): relative standard deviation used to generate the\n",
    "            noise. Relative means that it will be multiplied by the magnitude of\n",
    "            the value your are adding the noise to. This means that sigma can be\n",
    "            the same regardless of the scale of the vector.\n",
    "    \"\"\"\n",
    "    def __init__(self, sigma=0.):\n",
    "        super().__init__()\n",
    "        self.sigma = sigma\n",
    "        self.register_buffer('noise', torch.tensor(0))\n",
    "\n",
    "    def forward(self, x):\n",
    "        if self.sigma != 0.:\n",
    "            sampled_noise = self.noise.expand(*x.size()).detach().float().normal_() * self.sigma\n",
    "            x = x + sampled_noise\n",
    "        return x "
   ]
  },
  {
   "cell_type": "code",
   "execution_count": null,
   "metadata": {},
   "outputs": [
    {
     "data": {
      "application/vnd.jupyter.widget-view+json": {
       "model_id": "209a126ea5434423aa9e542de97a4165",
       "version_major": 2,
       "version_minor": 0
      },
      "text/plain": [
       "HBox(children=(HTML(value=''), FloatProgress(value=0.0, max=10.0), HTML(value='')))"
      ]
     },
     "metadata": {},
     "output_type": "display_data"
    },
    {
     "name": "stdout",
     "output_type": "stream",
     "text": [
      "Simulating 1176 subhalos between 7.0 and 10.0\n"
     ]
    },
    {
     "name": "stderr",
     "output_type": "stream",
     "text": [
      "WARNING: AstropyDeprecationWarning: In v4.1 and later versions, the Galactocentric frame will adopt default parameters that may update with time. An updated default parameter set is already available through the astropy.coordinates.galactocentric_frame_defaults ScienceState object, as described in but the default is currently still set to the pre-v4.0 parameter defaults. The safest way to guard against changing default parameters in the future is to either (1) specify all Galactocentric frame attributes explicitly when using the frame, or (2) set the galactocentric_frame_defaults parameter set name explicitly. See http://docs.astropy.org/en/latest/coordinates/galactocentric.html for more information. [astropy.coordinates.builtin_frames.galactocentric]\n"
     ]
    }
   ],
   "source": [
    "n_trials = 10  # Number of samples to simulate\n",
    "n_test = 1  # Number of points in f_sub over which to compute likelihood ratio\n",
    "\n",
    "out = np.zeros((n_trials, n_test))\n",
    "\n",
    "for i_trial in tqdm(range(n_trials)):\n",
    "    \n",
    "    # Simulate subhalos and make astrometric map\n",
    "    sim.set_mass_distribution(sim.rho_M_SI, M_min=1e7 * M_s, M_max=1e10 * M_s, M_min_calib=1e8 * M_s, M_max_calib=1.1e10 * M_s, N_calib=150., alpha=-1.9)\n",
    "    sim.set_radial_distribution(sim.r2rho_V_ein_EAQ, R_min=1e-3 * kpc, R_max=260 * kpc)\n",
    "    sim.set_subhalo_properties(sim.c200_SCP, distdep=False)\n",
    "    \n",
    "    sim.analysis_pipeline(get_sample=True)\n",
    "    sim.mu_qsrs = 1e6 * hp.reorder(sim.mu_qsrs.T, r2n=True).T\n",
    "    \n",
    "    x_test = torch.Tensor(sim.mu_qsrs)\n",
    "    \n",
    "    # Add noise\n",
    "    gn = GaussianNoise(sigma=0.0023)\n",
    "    x_test = gn(x_test).T\n",
    "    \n",
    "    theta_test = torch.linspace(1., 300., n_test).unsqueeze(1)\n",
    "\n",
    "    # Compute LLR over the parameter grid\n",
    "    out[i_trial, :] = [density_estimator(x_test.unsqueeze(0), theta_test[i].unsqueeze(0)).squeeze().detach().numpy() \\\n",
    "           for i in (range(n_test))]"
   ]
  }
 ],
 "metadata": {
  "interpreter": {
   "hash": "d2673a4010bba7487eab53ad68352648a0b5668bd63062fe38fbddb16bbd1870"
  },
  "kernelspec": {
   "display_name": "Python 3",
   "language": "python",
   "name": "python3"
  },
  "language_info": {
   "codemirror_mode": {
    "name": "ipython",
    "version": 3
   },
   "file_extension": ".py",
   "mimetype": "text/x-python",
   "name": "python",
   "nbconvert_exporter": "python",
   "pygments_lexer": "ipython3",
   "version": "3.8.5"
  }
 },
 "nbformat": 4,
 "nbformat_minor": 4
}
